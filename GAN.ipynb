{
 "cells": [
  {
   "cell_type": "code",
   "execution_count": 1,
   "metadata": {},
   "outputs": [
    {
     "name": "stderr",
     "output_type": "stream",
     "text": [
      "Using TensorFlow backend.\n"
     ]
    },
    {
     "name": "stdout",
     "output_type": "stream",
     "text": [
      "(8000, 3, 34, 34)\n"
     ]
    },
    {
     "name": "stderr",
     "output_type": "stream",
     "text": [
      "/home/ian/.virtualenv/gan/lib/python3.5/site-packages/skimage/transform/_warps.py:110: UserWarning: Anti-aliasing will be enabled by default in skimage 0.15 to avoid aliasing artifacts when down-sampling images.\n",
      "  warn(\"Anti-aliasing will be enabled by default in skimage 0.15 to \"\n"
     ]
    },
    {
     "name": "stdout",
     "output_type": "stream",
     "text": [
      "(8000, 3, 28, 28)\n",
      "1.0\n",
      "-0.9885054021608647\n"
     ]
    },
    {
     "name": "stderr",
     "output_type": "stream",
     "text": [
      "/home/ian/Pesquisa/GANResearch/gan.py:172: UserWarning: Update your `Conv2D` call to the Keras 2 API: `Conv2D(32, (3, 3), input_shape=(3, 28, 28..., padding=\"same\", strides=(2, 2))`\n",
      "  input_shape=img_shape))\n",
      "/home/ian/Pesquisa/GANResearch/gan.py:176: UserWarning: Update your `Conv2D` call to the Keras 2 API: `Conv2D(64, (3, 3), padding=\"same\", strides=(1, 1))`\n",
      "  cnn.add(Convolution2D(64, 3, 3, border_mode='same', subsample=(1, 1)))\n",
      "/home/ian/Pesquisa/GANResearch/gan.py:180: UserWarning: Update your `Conv2D` call to the Keras 2 API: `Conv2D(128, (3, 3), padding=\"same\", strides=(2, 2))`\n",
      "  cnn.add(Convolution2D(128, 3, 3, border_mode='same', subsample=(2, 2)))\n",
      "/home/ian/Pesquisa/GANResearch/gan.py:184: UserWarning: Update your `Conv2D` call to the Keras 2 API: `Conv2D(256, (3, 3), padding=\"same\", strides=(1, 1))`\n",
      "  cnn.add(Convolution2D(256, 3, 3, border_mode='same', subsample=(1, 1)))\n",
      "/home/ian/Pesquisa/GANResearch/gan.py:201: UserWarning: Update your `Model` call to the Keras 2 API: `Model(outputs=[<tf.Tenso..., inputs=Tensor(\"in...)`\n",
      "  return Model(input=image, output=[fake, aux])\n",
      "/home/ian/Pesquisa/GANResearch/gan.py:135: UserWarning: Update your `Conv2D` call to the Keras 2 API: `Conv2D(256, (5, 5), kernel_initializer=\"glorot_uniform\", padding=\"same\")`\n",
      "  init='glorot_uniform'))\n",
      "/home/ian/Pesquisa/GANResearch/gan.py:141: UserWarning: Update your `Conv2D` call to the Keras 2 API: `Conv2D(128, (5, 5), kernel_initializer=\"glorot_uniform\", padding=\"same\")`\n",
      "  init='glorot_uniform'))\n",
      "/home/ian/Pesquisa/GANResearch/gan.py:146: UserWarning: Update your `Conv2D` call to the Keras 2 API: `Conv2D(3, (2, 2), activation=\"tanh\", kernel_initializer=\"glorot_uniform\", padding=\"same\")`\n",
      "  activation='tanh', init='glorot_uniform'))\n",
      "/home/ian/Pesquisa/GANResearch/gan.py:155: UserWarning: Update your `Embedding` call to the Keras 2 API: `Embedding(2, 100, embeddings_initializer=\"glorot_uniform\")`\n",
      "  init='glorot_uniform')(image_class))\n",
      "/home/ian/Pesquisa/GANResearch/gan.py:163: UserWarning: Update your `Model` call to the Keras 2 API: `Model(outputs=Tensor(\"se..., inputs=[<tf.Tenso...)`\n",
      "  return Model(input=[latent, image_class], output=fake_image)\n",
      "/home/ian/Pesquisa/GANResearch/gan.py:108: UserWarning: Update your `Model` call to the Keras 2 API: `Model(outputs=[<tf.Tenso..., inputs=[<tf.Tenso...)`\n",
      "  self.combined = Model(input=[latent, image_class], output=[fake, aux])\n"
     ]
    },
    {
     "name": "stdout",
     "output_type": "stream",
     "text": [
      "data/out\n",
      "Testing models metrics for thresh_nms: 0.3\n",
      "['259', '318', '475', '075', '262', '395', '216', '181', '452', '445']\n",
      "Menas\n",
      "\n",
      "Overall accuracy: 40.449954% \n",
      "\n",
      "\n",
      "AveP: 29.584172% \n",
      "\n",
      "\n",
      "AveP Preds: 29.247772% \n",
      "\n",
      "Classification report:\n",
      "               precision    recall  f1-score   support\n",
      "\n",
      " Non-nunclei       0.80      0.24      0.37      3155\n",
      "      Nuclei       0.30      0.84      0.44      1201\n",
      "\n",
      "   micro avg       0.40      0.40      0.40      4356\n",
      "   macro avg       0.55      0.54      0.40      4356\n",
      "weighted avg       0.66      0.40      0.39      4356\n",
      "\n",
      "\n",
      "Confusion matrix:\n",
      "[[ 754 2401]\n",
      " [ 193 1008]]\n",
      "Testing models metrics from results thresh_nms: 0.3\n",
      "['216' '452' '395' '475' '075' '259' '445' '262' '318']\n",
      "216 \n",
      "Overall accuracy: 31.180691% \n",
      "\n",
      "\n",
      "AveP: 23.661531% \n",
      "\n",
      "\n",
      "AveP Preds: 21.317597% \n",
      "\n",
      "Classification report:\n",
      "               precision    recall  f1-score   support\n",
      "\n",
      " Non-nunclei       0.73      0.18      0.29      1193\n",
      "      Nuclei       0.21      0.76      0.33       340\n",
      "\n",
      "   micro avg       0.31      0.31      0.31      1533\n",
      "   macro avg       0.47      0.47      0.31      1533\n",
      "weighted avg       0.62      0.31      0.30      1533\n",
      "\n",
      "\n",
      "Confusion matrix:\n",
      "[[218 975]\n",
      " [ 80 260]]\n"
     ]
    }
   ],
   "source": [
    "\n",
    "%run gan.py\n",
    "# %run .py"
   ]
  },
  {
   "cell_type": "code",
   "execution_count": null,
   "metadata": {},
   "outputs": [],
   "source": []
  }
 ],
 "metadata": {
  "kernelspec": {
   "display_name": "Python 3",
   "language": "python",
   "name": "python3"
  },
  "language_info": {
   "codemirror_mode": {
    "name": "ipython",
    "version": 3
   },
   "file_extension": ".py",
   "mimetype": "text/x-python",
   "name": "python",
   "nbconvert_exporter": "python",
   "pygments_lexer": "ipython3",
   "version": "3.5.3"
  }
 },
 "nbformat": 4,
 "nbformat_minor": 2
}
